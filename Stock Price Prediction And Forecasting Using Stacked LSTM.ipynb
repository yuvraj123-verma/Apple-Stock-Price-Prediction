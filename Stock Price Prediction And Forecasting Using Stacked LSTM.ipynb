{
 "cells": [
  {
   "cell_type": "code",
   "execution_count": 1,
   "id": "201cabb2",
   "metadata": {},
   "outputs": [],
   "source": [
    "### Data Collection\n",
    "import pandas_datareader as pdr"
   ]
  },
  {
   "cell_type": "code",
   "execution_count": 2,
   "id": "5d1c527a",
   "metadata": {},
   "outputs": [
    {
     "name": "stderr",
     "output_type": "stream",
     "text": [
      "c:\\python39\\lib\\site-packages\\pandas_datareader\\tiingo.py:234: FutureWarning: In a future version of pandas all arguments of concat except for the argument 'objs' will be keyword-only\n",
      "  return pd.concat(dfs, self._concat_axis)\n"
     ]
    }
   ],
   "source": [
    "df = pdr.get_data_tiingo('AAPL', api_key = 'eedfe43092b5b2959a639721de799515b14a22ca')"
   ]
  },
  {
   "cell_type": "code",
   "execution_count": 3,
   "id": "575ec36d",
   "metadata": {},
   "outputs": [],
   "source": [
    "df.to_csv('AAPL.csv')"
   ]
  },
  {
   "cell_type": "code",
   "execution_count": 4,
   "id": "1d411a2a",
   "metadata": {},
   "outputs": [],
   "source": [
    "import pandas as pd"
   ]
  },
  {
   "cell_type": "code",
   "execution_count": 5,
   "id": "0adad494",
   "metadata": {},
   "outputs": [
    {
     "data": {
      "text/html": [
       "<div>\n",
       "<style scoped>\n",
       "    .dataframe tbody tr th:only-of-type {\n",
       "        vertical-align: middle;\n",
       "    }\n",
       "\n",
       "    .dataframe tbody tr th {\n",
       "        vertical-align: top;\n",
       "    }\n",
       "\n",
       "    .dataframe thead th {\n",
       "        text-align: right;\n",
       "    }\n",
       "</style>\n",
       "<table border=\"1\" class=\"dataframe\">\n",
       "  <thead>\n",
       "    <tr style=\"text-align: right;\">\n",
       "      <th></th>\n",
       "      <th>symbol</th>\n",
       "      <th>date</th>\n",
       "      <th>close</th>\n",
       "      <th>high</th>\n",
       "      <th>low</th>\n",
       "      <th>open</th>\n",
       "      <th>volume</th>\n",
       "      <th>adjClose</th>\n",
       "      <th>adjHigh</th>\n",
       "      <th>adjLow</th>\n",
       "      <th>adjOpen</th>\n",
       "      <th>adjVolume</th>\n",
       "      <th>divCash</th>\n",
       "      <th>splitFactor</th>\n",
       "    </tr>\n",
       "  </thead>\n",
       "  <tbody>\n",
       "    <tr>\n",
       "      <th>0</th>\n",
       "      <td>AAPL</td>\n",
       "      <td>2016-08-30 00:00:00+00:00</td>\n",
       "      <td>106.00</td>\n",
       "      <td>106.5000</td>\n",
       "      <td>105.50</td>\n",
       "      <td>105.80</td>\n",
       "      <td>24863945</td>\n",
       "      <td>24.848285</td>\n",
       "      <td>24.965494</td>\n",
       "      <td>24.731076</td>\n",
       "      <td>24.801401</td>\n",
       "      <td>99455780</td>\n",
       "      <td>0.0</td>\n",
       "      <td>1.0</td>\n",
       "    </tr>\n",
       "    <tr>\n",
       "      <th>1</th>\n",
       "      <td>AAPL</td>\n",
       "      <td>2016-08-31 00:00:00+00:00</td>\n",
       "      <td>106.10</td>\n",
       "      <td>106.5699</td>\n",
       "      <td>105.64</td>\n",
       "      <td>105.66</td>\n",
       "      <td>29662406</td>\n",
       "      <td>24.871727</td>\n",
       "      <td>24.981880</td>\n",
       "      <td>24.763894</td>\n",
       "      <td>24.768583</td>\n",
       "      <td>118649624</td>\n",
       "      <td>0.0</td>\n",
       "      <td>1.0</td>\n",
       "    </tr>\n",
       "    <tr>\n",
       "      <th>2</th>\n",
       "      <td>AAPL</td>\n",
       "      <td>2016-09-01 00:00:00+00:00</td>\n",
       "      <td>106.73</td>\n",
       "      <td>106.8000</td>\n",
       "      <td>105.62</td>\n",
       "      <td>106.14</td>\n",
       "      <td>26701523</td>\n",
       "      <td>25.019410</td>\n",
       "      <td>25.035819</td>\n",
       "      <td>24.759206</td>\n",
       "      <td>24.881103</td>\n",
       "      <td>106806092</td>\n",
       "      <td>0.0</td>\n",
       "      <td>1.0</td>\n",
       "    </tr>\n",
       "    <tr>\n",
       "      <th>3</th>\n",
       "      <td>AAPL</td>\n",
       "      <td>2016-09-02 00:00:00+00:00</td>\n",
       "      <td>107.73</td>\n",
       "      <td>108.0000</td>\n",
       "      <td>106.82</td>\n",
       "      <td>107.70</td>\n",
       "      <td>26802450</td>\n",
       "      <td>25.253828</td>\n",
       "      <td>25.317120</td>\n",
       "      <td>25.040507</td>\n",
       "      <td>25.246795</td>\n",
       "      <td>107209800</td>\n",
       "      <td>0.0</td>\n",
       "      <td>1.0</td>\n",
       "    </tr>\n",
       "    <tr>\n",
       "      <th>4</th>\n",
       "      <td>AAPL</td>\n",
       "      <td>2016-09-06 00:00:00+00:00</td>\n",
       "      <td>107.70</td>\n",
       "      <td>108.3000</td>\n",
       "      <td>107.51</td>\n",
       "      <td>107.90</td>\n",
       "      <td>26880391</td>\n",
       "      <td>25.246795</td>\n",
       "      <td>25.387446</td>\n",
       "      <td>25.202256</td>\n",
       "      <td>25.293679</td>\n",
       "      <td>107521564</td>\n",
       "      <td>0.0</td>\n",
       "      <td>1.0</td>\n",
       "    </tr>\n",
       "  </tbody>\n",
       "</table>\n",
       "</div>"
      ],
      "text/plain": [
       "  symbol                       date   close      high     low    open  \\\n",
       "0   AAPL  2016-08-30 00:00:00+00:00  106.00  106.5000  105.50  105.80   \n",
       "1   AAPL  2016-08-31 00:00:00+00:00  106.10  106.5699  105.64  105.66   \n",
       "2   AAPL  2016-09-01 00:00:00+00:00  106.73  106.8000  105.62  106.14   \n",
       "3   AAPL  2016-09-02 00:00:00+00:00  107.73  108.0000  106.82  107.70   \n",
       "4   AAPL  2016-09-06 00:00:00+00:00  107.70  108.3000  107.51  107.90   \n",
       "\n",
       "     volume   adjClose    adjHigh     adjLow    adjOpen  adjVolume  divCash  \\\n",
       "0  24863945  24.848285  24.965494  24.731076  24.801401   99455780      0.0   \n",
       "1  29662406  24.871727  24.981880  24.763894  24.768583  118649624      0.0   \n",
       "2  26701523  25.019410  25.035819  24.759206  24.881103  106806092      0.0   \n",
       "3  26802450  25.253828  25.317120  25.040507  25.246795  107209800      0.0   \n",
       "4  26880391  25.246795  25.387446  25.202256  25.293679  107521564      0.0   \n",
       "\n",
       "   splitFactor  \n",
       "0          1.0  \n",
       "1          1.0  \n",
       "2          1.0  \n",
       "3          1.0  \n",
       "4          1.0  "
      ]
     },
     "execution_count": 5,
     "metadata": {},
     "output_type": "execute_result"
    }
   ],
   "source": [
    "df = pd.read_csv('AAPL.csv')\n",
    "df.head()"
   ]
  },
  {
   "cell_type": "code",
   "execution_count": 6,
   "id": "f8c66651",
   "metadata": {},
   "outputs": [
    {
     "data": {
      "text/html": [
       "<div>\n",
       "<style scoped>\n",
       "    .dataframe tbody tr th:only-of-type {\n",
       "        vertical-align: middle;\n",
       "    }\n",
       "\n",
       "    .dataframe tbody tr th {\n",
       "        vertical-align: top;\n",
       "    }\n",
       "\n",
       "    .dataframe thead th {\n",
       "        text-align: right;\n",
       "    }\n",
       "</style>\n",
       "<table border=\"1\" class=\"dataframe\">\n",
       "  <thead>\n",
       "    <tr style=\"text-align: right;\">\n",
       "      <th></th>\n",
       "      <th>symbol</th>\n",
       "      <th>date</th>\n",
       "      <th>close</th>\n",
       "      <th>high</th>\n",
       "      <th>low</th>\n",
       "      <th>open</th>\n",
       "      <th>volume</th>\n",
       "      <th>adjClose</th>\n",
       "      <th>adjHigh</th>\n",
       "      <th>adjLow</th>\n",
       "      <th>adjOpen</th>\n",
       "      <th>adjVolume</th>\n",
       "      <th>divCash</th>\n",
       "      <th>splitFactor</th>\n",
       "    </tr>\n",
       "  </thead>\n",
       "  <tbody>\n",
       "    <tr>\n",
       "      <th>1253</th>\n",
       "      <td>AAPL</td>\n",
       "      <td>2021-08-23 00:00:00+00:00</td>\n",
       "      <td>149.71</td>\n",
       "      <td>150.19</td>\n",
       "      <td>147.89</td>\n",
       "      <td>148.31</td>\n",
       "      <td>60131810</td>\n",
       "      <td>149.71</td>\n",
       "      <td>150.19</td>\n",
       "      <td>147.89</td>\n",
       "      <td>148.31</td>\n",
       "      <td>60131810</td>\n",
       "      <td>0.0</td>\n",
       "      <td>1.0</td>\n",
       "    </tr>\n",
       "    <tr>\n",
       "      <th>1254</th>\n",
       "      <td>AAPL</td>\n",
       "      <td>2021-08-24 00:00:00+00:00</td>\n",
       "      <td>149.62</td>\n",
       "      <td>150.86</td>\n",
       "      <td>149.15</td>\n",
       "      <td>149.45</td>\n",
       "      <td>48606428</td>\n",
       "      <td>149.62</td>\n",
       "      <td>150.86</td>\n",
       "      <td>149.15</td>\n",
       "      <td>149.45</td>\n",
       "      <td>48606428</td>\n",
       "      <td>0.0</td>\n",
       "      <td>1.0</td>\n",
       "    </tr>\n",
       "    <tr>\n",
       "      <th>1255</th>\n",
       "      <td>AAPL</td>\n",
       "      <td>2021-08-25 00:00:00+00:00</td>\n",
       "      <td>148.36</td>\n",
       "      <td>150.32</td>\n",
       "      <td>147.80</td>\n",
       "      <td>149.81</td>\n",
       "      <td>58991297</td>\n",
       "      <td>148.36</td>\n",
       "      <td>150.32</td>\n",
       "      <td>147.80</td>\n",
       "      <td>149.81</td>\n",
       "      <td>58991297</td>\n",
       "      <td>0.0</td>\n",
       "      <td>1.0</td>\n",
       "    </tr>\n",
       "    <tr>\n",
       "      <th>1256</th>\n",
       "      <td>AAPL</td>\n",
       "      <td>2021-08-26 00:00:00+00:00</td>\n",
       "      <td>147.54</td>\n",
       "      <td>149.12</td>\n",
       "      <td>147.51</td>\n",
       "      <td>148.35</td>\n",
       "      <td>48597195</td>\n",
       "      <td>147.54</td>\n",
       "      <td>149.12</td>\n",
       "      <td>147.51</td>\n",
       "      <td>148.35</td>\n",
       "      <td>48597195</td>\n",
       "      <td>0.0</td>\n",
       "      <td>1.0</td>\n",
       "    </tr>\n",
       "    <tr>\n",
       "      <th>1257</th>\n",
       "      <td>AAPL</td>\n",
       "      <td>2021-08-27 00:00:00+00:00</td>\n",
       "      <td>148.60</td>\n",
       "      <td>148.75</td>\n",
       "      <td>146.83</td>\n",
       "      <td>147.48</td>\n",
       "      <td>55802388</td>\n",
       "      <td>148.60</td>\n",
       "      <td>148.75</td>\n",
       "      <td>146.83</td>\n",
       "      <td>147.48</td>\n",
       "      <td>55802388</td>\n",
       "      <td>0.0</td>\n",
       "      <td>1.0</td>\n",
       "    </tr>\n",
       "  </tbody>\n",
       "</table>\n",
       "</div>"
      ],
      "text/plain": [
       "     symbol                       date   close    high     low    open  \\\n",
       "1253   AAPL  2021-08-23 00:00:00+00:00  149.71  150.19  147.89  148.31   \n",
       "1254   AAPL  2021-08-24 00:00:00+00:00  149.62  150.86  149.15  149.45   \n",
       "1255   AAPL  2021-08-25 00:00:00+00:00  148.36  150.32  147.80  149.81   \n",
       "1256   AAPL  2021-08-26 00:00:00+00:00  147.54  149.12  147.51  148.35   \n",
       "1257   AAPL  2021-08-27 00:00:00+00:00  148.60  148.75  146.83  147.48   \n",
       "\n",
       "        volume  adjClose  adjHigh  adjLow  adjOpen  adjVolume  divCash  \\\n",
       "1253  60131810    149.71   150.19  147.89   148.31   60131810      0.0   \n",
       "1254  48606428    149.62   150.86  149.15   149.45   48606428      0.0   \n",
       "1255  58991297    148.36   150.32  147.80   149.81   58991297      0.0   \n",
       "1256  48597195    147.54   149.12  147.51   148.35   48597195      0.0   \n",
       "1257  55802388    148.60   148.75  146.83   147.48   55802388      0.0   \n",
       "\n",
       "      splitFactor  \n",
       "1253          1.0  \n",
       "1254          1.0  \n",
       "1255          1.0  \n",
       "1256          1.0  \n",
       "1257          1.0  "
      ]
     },
     "execution_count": 6,
     "metadata": {},
     "output_type": "execute_result"
    }
   ],
   "source": [
    "df.tail()"
   ]
  },
  {
   "cell_type": "code",
   "execution_count": 7,
   "id": "7b345018",
   "metadata": {},
   "outputs": [
    {
     "data": {
      "text/plain": [
       "[<matplotlib.lines.Line2D at 0x1527cc05f40>]"
      ]
     },
     "execution_count": 7,
     "metadata": {},
     "output_type": "execute_result"
    },
    {
     "data": {
      "image/png": "[encoded data removed]",
      "text/plain": [
       "<Figure size 432x288 with 1 Axes>"
      ]
     },
     "metadata": {
      "needs_background": "light"
     },
     "output_type": "display_data"
    }
   ],
   "source": [
    "import matplotlib.pyplot as plt\n",
    "plt.plot(df.reset_index()['close'])"
   ]
  },
  {
   "cell_type": "code",
   "execution_count": 8,
   "id": "b6a0cb43",
   "metadata": {},
   "outputs": [],
   "source": [
    "df1 = df.reset_index()['close']"
   ]
  },
  {
   "cell_type": "code",
   "execution_count": 9,
   "id": "9abbbd44",
   "metadata": {},
   "outputs": [
    {
     "data": {
      "text/plain": [
       "(1258,)"
      ]
     },
     "execution_count": 9,
     "metadata": {},
     "output_type": "execute_result"
    }
   ],
   "source": [
    "df1.shape"
   ]
  },
  {
   "cell_type": "code",
   "execution_count": 10,
   "id": "1a4be2fc",
   "metadata": {},
   "outputs": [],
   "source": [
    "import numpy as np"
   ]
  },
  {
   "cell_type": "code",
   "execution_count": 11,
   "id": "ab9d281d",
   "metadata": {},
   "outputs": [],
   "source": [
    "from sklearn.preprocessing import MinMaxScaler\n",
    "scaler = MinMaxScaler(feature_range=(0,1))\n",
    "df1 = scaler.fit_transform(np.array(df1).reshape(-1,1))"
   ]
  },
  {
   "cell_type": "code",
   "execution_count": 12,
   "id": "41f5b522",
   "metadata": {},
   "outputs": [
    {
     "data": {
      "text/plain": [
       "array([[0.0071223 ],\n",
       "       [0.00737046],\n",
       "       [0.00893389],\n",
       "       ...,\n",
       "       [0.11224439],\n",
       "       [0.11020945],\n",
       "       [0.11283998]])"
      ]
     },
     "execution_count": 12,
     "metadata": {},
     "output_type": "execute_result"
    }
   ],
   "source": [
    "df1"
   ]
  },
  {
   "cell_type": "code",
   "execution_count": 13,
   "id": "e6bb3add",
   "metadata": {},
   "outputs": [],
   "source": [
    "## Splitting the dataset into train and test split\n",
    "training_size = int(len(df1)*0.65)\n",
    "testing_size = len(df1) - training_size\n",
    "train_data, test_data = df1[0:training_size, :], df1[training_size:len(df1), :1]"
   ]
  },
  {
   "cell_type": "code",
   "execution_count": 14,
   "id": "12f6f141",
   "metadata": {},
   "outputs": [
    {
     "data": {
      "text/plain": [
       "(817, 441)"
      ]
     },
     "execution_count": 14,
     "metadata": {},
     "output_type": "execute_result"
    }
   ],
   "source": [
    "training_size, testing_size"
   ]
  },
  {
   "cell_type": "code",
   "execution_count": 15,
   "id": "a217bdcc",
   "metadata": {},
   "outputs": [],
   "source": [
    "### Data Preprocessing\n",
    "def create_dataset(dataset, time_step = 1):\n",
    "    dataX, datay = [],[]\n",
    "    for i in range(len(dataset)-time_step -1):\n",
    "        a = dataset[i:(i + time_step), 0]\n",
    "        dataX.append(a)\n",
    "        datay.append(dataset[i + time_step, 0])\n",
    "    return np.array(dataX), np.array(datay)"
   ]
  },
  {
   "cell_type": "code",
   "execution_count": 16,
   "id": "f35d841a",
   "metadata": {},
   "outputs": [],
   "source": [
    "time_step = 100\n",
    "X_train, y_train = create_dataset(train_data, time_step)\n",
    "X_test, y_test = create_dataset(test_data, time_step)"
   ]
  },
  {
   "cell_type": "code",
   "execution_count": 17,
   "id": "2a9285b3",
   "metadata": {},
   "outputs": [
    {
     "name": "stdout",
     "output_type": "stream",
     "text": [
      "[[0.0071223  0.00737046 0.00893389 ... 0.04131924 0.0418652  0.04206373]\n",
      " [0.00737046 0.00893389 0.01141553 ... 0.0418652  0.04206373 0.04179075]\n",
      " [0.00893389 0.01141553 0.01134108 ... 0.04206373 0.04179075 0.04653067]\n",
      " ...\n",
      " [0.24717094 0.25134008 0.25089339 ... 0.40691384 0.40490371 0.39721064]\n",
      " [0.25134008 0.25089339 0.2404457  ... 0.40490371 0.39721064 0.39428231]\n",
      " [0.25089339 0.2404457  0.2434733  ... 0.39721064 0.39428231 0.39371153]]\n"
     ]
    }
   ],
   "source": [
    "print(X_train)"
   ]
  },
  {
   "cell_type": "code",
   "execution_count": 18,
   "id": "3539ca0d",
   "metadata": {},
   "outputs": [
    {
     "name": "stdout",
     "output_type": "stream",
     "text": [
      "[0.04179075 0.04653067 0.04667957 0.04670439 0.04591026 0.04521541\n",
      " 0.06357951 0.06303355 0.06439845 0.06740123 0.07047846 0.07174409\n",
      " 0.07268712 0.07194262 0.07484614 0.07913937 0.08035537 0.0799459\n",
      " 0.08087651 0.08330852 0.08432599 0.08288664 0.08320925 0.08387929\n",
      " 0.08402819 0.09097677 0.08891701 0.09095196 0.08986004 0.09030673\n",
      " 0.08901628 0.08822216 0.08936371 0.08951261 0.08899146 0.09263947\n",
      " 0.09321024 0.0914731  0.0951211  0.09110085 0.09502184 0.09378102\n",
      " 0.09308616 0.09368176 0.10092813 0.10172226 0.10125074 0.1005807\n",
      " 0.10067997 0.10333532 0.10147409 0.1005807  0.09978658 0.0993647\n",
      " 0.09554298 0.09596486 0.09410363 0.09603931 0.09447588 0.09318543\n",
      " 0.09755311 0.09713123 0.10053107 0.10273973 0.10063034 0.10090332\n",
      " 0.10055589 0.10782708 0.110135   0.10901826 0.107703   0.11373337\n",
      " 0.123784   0.126216   0.12440441 0.12611674 0.13145225 0.1304596\n",
      " 0.12988882 0.11693468 0.12261763 0.12390808 0.126216   0.12574449\n",
      " 0.12460294 0.12591821 0.12527298 0.12542188 0.12316359 0.12420588\n",
      " 0.12983919 0.1260671  0.12735755 0.12964066 0.12869764 0.11378301\n",
      " 0.10494838 0.1078519  0.10430316 0.10214413 0.09713123 0.10723149\n",
      " 0.10393091 0.10606512 0.10546953 0.10708259 0.10594104 0.10075442\n",
      " 0.10596585 0.10063034 0.10147409 0.10018364 0.10164781 0.09827278\n",
      " 0.10187115 0.10405499 0.10522136 0.10574251 0.11078023 0.1139319\n",
      " 0.11522235 0.11651281 0.11884554 0.11715803 0.11698432 0.12150089\n",
      " 0.12311396 0.12490073 0.11770399 0.11507346 0.1131626  0.11643836\n",
      " 0.13403315 0.13013699 0.13217193 0.13817749 0.14132916 0.14376116\n",
      " 0.12951658 0.13487691 0.14075839 0.14510125 0.14348819 0.13581993\n",
      " 0.13492654 0.13420687 0.14058467 0.141081   0.13931904 0.1407832\n",
      " 0.14477864 0.14835219 0.14944411 0.15105718 0.15118126 0.14629244\n",
      " 0.14587056 0.14425749 0.13773079 0.14485309 0.14326484 0.14026206\n",
      " 0.13686222 0.14083284 0.13783006 0.13797896 0.1313778  0.12472702\n",
      " 0.12100457 0.11767917 0.12410661 0.12681159 0.12445404 0.12653861\n",
      " 0.12576931 0.127432   0.12495037 0.12969029 0.12946694 0.13080703\n",
      " 0.13095593 0.13256899 0.13120409 0.13366091 0.14083284 0.142297\n",
      " 0.14053504 0.13115446 0.1318245  0.13162597 0.13393389 0.13222156\n",
      " 0.1347032  0.14869962 0.15780723 0.16356462 0.1582291  0.1612567\n",
      " 0.17215108 0.17649394 0.17788366 0.1814324  0.18053901 0.17753623\n",
      " 0.17579909 0.16927238 0.16366389 0.16867679 0.16631924 0.16589736\n",
      " 0.17373933 0.17825591 0.17828072 0.17609688 0.17356561 0.16465654\n",
      " 0.17053802 0.16855271 0.16545067 0.1650536  0.16349017 0.16425948\n",
      " 0.16438356 0.17257296 0.17016577 0.17158031 0.17145622 0.17579909\n",
      " 0.18187909 0.17721362 0.17674211 0.17837999 0.17837999 0.16736152\n",
      " 0.16743597 0.16862716 0.16403613 0.17155549 0.17148104 0.17346635\n",
      " 0.17835517 0.17674211 0.17669248 0.17659321 0.17905003 0.18354179\n",
      " 0.18130832 0.18852988 0.18892694 0.18694163 0.18331844 0.18341771\n",
      " 0.1764195  0.16870161 0.16969426 0.16088446 0.15842764 0.15956919\n",
      " 0.16043776 0.14237145 0.13242009 0.14864999 0.13998908 0.1290947\n",
      " 0.13222156 0.14785587 0.15190093 0.15942029 0.17336708 0.17197737\n",
      " 0.17053802 0.16860234 0.17215108 0.17959599 0.18820727 0.18676792\n",
      " 0.18609788 0.17835517 0.18135795 0.18287175 0.1824995  0.17842962\n",
      " 0.18316955 0.19071372 0.19503176 0.1906889  0.186892   0.18741314\n",
      " 0.18584971 0.17909966 0.17895076 0.16909867 0.16309311 0.15338991\n",
      " 0.17282112 0.16182748 0.15721163 0.16043776 0.15770796 0.16195156\n",
      " 0.16994243 0.17289557 0.16192674 0.16607107 0.17401231 0.17200218\n",
      " 0.17622096 0.17768513 0.18039011 0.18639567 0.18540302 0.17289557\n",
      " 0.15532559 0.15413441 0.14842664 0.1501886  0.15160314 0.14688803\n",
      " 0.15418404 0.16371352 0.18225134 0.18304546 0.20026802 0.20356859\n",
      " 0.20577725 0.20902819 0.21567898 0.2120806  0.21098868 0.20674509\n",
      " 0.21106313 0.20810999 0.20642247 0.20969823 0.20853186 0.21150983\n",
      " 0.21098868 0.21205579 0.21036827 0.20937562 0.20781219 0.2161753\n",
      " 0.2201211  0.22379392 0.22545662 0.22416617 0.21979849 0.21863212\n",
      " 0.22123784 0.21731686 0.21756502 0.21270101 0.21245285 0.20488386\n",
      " 0.20689398 0.20431308 0.202973   0.1961485  0.201757   0.20108696\n",
      " 0.20441235 0.20344451 0.2085815  0.20049136 0.20416419 0.21054199\n",
      " 0.21701906 0.21644828 0.21031864 0.2181358  0.21888029 0.217838\n",
      " 0.21917808 0.21657236 0.22024519 0.21915327 0.21957514 0.22302462\n",
      " 0.2275412  0.2260274  0.21801171 0.21535636 0.21629938 0.24411852\n",
      " 0.25873536 0.26022434 0.26290451 0.2580405  0.25838793 0.262433\n",
      " 0.25908279 0.26240818 0.26459202 0.26580802 0.27345146 0.28402323\n",
      " 0.27876216 0.27771987 0.27774469 0.27883661 0.28049931 0.28491662\n",
      " 0.2892843  0.29742406 0.30251142 0.30896367 0.31077526 0.30707763\n",
      " 0.29772186 0.29325491 0.28588446 0.29958309 0.29268414 0.30593607\n",
      " 0.29955827 0.28476772 0.28566111 0.28598372 0.29010324 0.28422176\n",
      " 0.29198928 0.29546357 0.29107107 0.30231288 0.30427338 0.30804546\n",
      " 0.31305837 0.31998213 0.30985706 0.300675   0.29938455 0.30707763\n",
      " 0.28099563 0.27625571 0.29526504 0.28347727 0.2953643  0.29298193\n",
      " 0.28015188 0.28831646 0.29164185 0.29680365 0.27784395 0.28953246\n",
      " 0.28084673 0.27077129 0.27340183 0.28719972 0.29553802 0.25895871\n",
      " 0.24434187 0.24975184 0.26508835 0.26146516 0.25148898 0.22592813\n",
      " 0.22111376 0.20763848 0.21907882 0.22433988 0.20530574 0.18326881\n",
      " 0.18277248 0.17162994 0.17741215 0.17646913 0.19309609 0.18964662\n",
      " 0.18723943 0.20272484 0.18254914 0.17766031 0.16219972 0.16495434\n",
      " 0.16254715 0.16371352 0.16830455 0.15473    0.15090828 0.15619416\n",
      " 0.14333929 0.13326385 0.11812587 0.10844749 0.1341076  0.13157634\n",
      " 0.13177487 0.13552214 0.13596883 0.0969327  0.11199623 0.11117729\n",
      " 0.1181755  0.12452849 0.12574449 0.12199722 0.11631427 0.1239329\n",
      " 0.12857356 0.13085666 0.13323903 0.12450367 0.12604229 0.12301469\n",
      " 0.13557177 0.13194858 0.12792833 0.15415922 0.15711237 0.1573109\n",
      " 0.16904904 0.17632023 0.17646913 0.16827973 0.16696446 0.16453246\n",
      " 0.16815565 0.16639369 0.1679323  0.16698928 0.16825491 0.17098471\n",
      " 0.16857753 0.17331745 0.17644431 0.17669248 0.17803256 0.17376415\n",
      " 0.17828072 0.18046456 0.17967044 0.17716399 0.17215108 0.17316855\n",
      " 0.18803355 0.19302164 0.19500695 0.20001985 0.20595096 0.21066607\n",
      " 0.20696843 0.2110135  0.22821124 0.21818543 0.21245285 0.20761366\n",
      " 0.21178281 0.21240322 0.21545563 0.21865694 0.22555589 0.22885646\n",
      " 0.22970022 0.23295116 0.24064423 0.23915525 0.24193468 0.23779035\n",
      " 0.23759182 0.23848521 0.23853484 0.24816359 0.24997518 0.25163788\n",
      " 0.25895871 0.25816458 0.25349911 0.2510671  0.25183641 0.24205877\n",
      " 0.26650288 0.26310304 0.26955529 0.26144034 0.24749355 0.24759281\n",
      " 0.24218285 0.23339786 0.20495831 0.21225432 0.21786282 0.21577824\n",
      " 0.21309807 0.19843161 0.20714215 0.1976623  0.18991959 0.18820727\n",
      " 0.18637086 0.18426147 0.18654457 0.17852889 0.17413639 0.18986996\n",
      " 0.19706671 0.20371749 0.21595196 0.22198233 0.22751638 0.22597776\n",
      " 0.2258785  0.22237939 0.22523327 0.23654953 0.23511018 0.23905599\n",
      " 0.23736847 0.23687215 0.22940242 0.23989974 0.23975084 0.23523427\n",
      " 0.2442426  0.24717094 0.25134008 0.25089339 0.2404457  0.2434733\n",
      " 0.24841175 0.24473893 0.24858547 0.25332539 0.25156343 0.24870955\n",
      " 0.25444213 0.24682351 0.25831348 0.26233373 0.26191185 0.25781715\n",
      " 0.25960393 0.2644183  0.26218483 0.2727566  0.26131626 0.25037225\n",
      " 0.22386837 0.23295116 0.2380137  0.24890808 0.24285289 0.24158725\n",
      " 0.26265634 0.24722057 0.24471412 0.2565267  0.266081   0.26610582\n",
      " 0.27176395 0.27131725 0.24694759 0.25650189 0.25071967 0.25411952\n",
      " 0.26275561 0.26208557 0.25454139 0.2632023  0.27335219 0.27330256\n",
      " 0.27556085 0.28183939 0.29893786 0.29769704 0.28692674 0.28978062\n",
      " 0.29176593 0.29690292 0.29241116 0.28439547 0.28685229 0.28427139\n",
      " 0.29258487 0.28975581 0.28710046 0.29988088 0.3014195  0.28744789\n",
      " 0.29206373 0.30742505 0.30754914 0.30094798 0.30747469 0.31506849\n",
      " 0.3302561  0.32941235 0.32804745 0.32568989 0.32794818 0.33075243\n",
      " 0.34092714 0.33956224 0.34755311 0.34854576 0.35599067 0.36212031\n",
      " 0.34782609 0.34775164 0.36140064 0.37892098 0.38309013 0.38217193\n",
      " 0.38244491 0.38787969 0.38964165 0.39475382 0.39415823 0.40038714\n",
      " 0.39584574 0.40358845 0.40691384 0.40490371 0.39721064 0.39428231\n",
      " 0.39371153 0.40510224]\n"
     ]
    }
   ],
   "source": [
    "print(y_train)"
   ]
  },
  {
   "cell_type": "code",
   "execution_count": 19,
   "id": "8d1da7e9",
   "metadata": {},
   "outputs": [],
   "source": [
    "# LSTM take input in 3 dimension\n",
    "# reshape input to be  [samples, time steps, features] which is required for LSTM\n",
    "X_train = X_train.reshape(X_train.shape[0] ,X_train.shape[1], 1)\n",
    "X_test = X_test.reshape(X_test.shape[0] ,X_test.shape[1], 1)"
   ]
  },
  {
   "cell_type": "code",
   "execution_count": 20,
   "id": "ff64bbc1",
   "metadata": {},
   "outputs": [],
   "source": [
    "# Create the LSTM Model\n",
    "from tensorflow.keras.models import Sequential\n",
    "from tensorflow.keras.layers import Dense\n",
    "from tensorflow.keras.layers import LSTM"
   ]
  },
  {
   "cell_type": "code",
   "execution_count": 21,
   "id": "25277ed0",
   "metadata": {},
   "outputs": [],
   "source": [
    "model = Sequential()\n",
    "model.add(LSTM(50, return_sequences = True, input_shape = (100, 1)))\n",
    "model.add(LSTM(50, return_sequences = True))\n",
    "model.add(LSTM(50))\n",
    "model.add(Dense(1))\n",
    "model.compile(loss = 'mean_squared_error', optimizer='adam')"
   ]
  },
  {
   "cell_type": "code",
   "execution_count": 22,
   "id": "9832a1b9",
   "metadata": {},
   "outputs": [
    {
     "name": "stdout",
     "output_type": "stream",
     "text": [
      "Epoch 1/100\n",
      "12/12 [==============================] - 17s 551ms/step - loss: 0.0169 - val_loss: 0.0377\n",
      "Epoch 2/100\n",
      "12/12 [==============================] - 4s 303ms/step - loss: 0.0025 - val_loss: 0.0258\n",
      "Epoch 3/100\n",
      "12/12 [==============================] - 3s 279ms/step - loss: 0.0012 - val_loss: 0.0227\n",
      "Epoch 4/100\n",
      "12/12 [==============================] - 3s 282ms/step - loss: 7.7080e-04 - val_loss: 0.0220\n",
      "Epoch 5/100\n",
      "12/12 [==============================] - 3s 280ms/step - loss: 5.3741e-04 - val_loss: 0.0235\n",
      "Epoch 6/100\n",
      "12/12 [==============================] - 3s 281ms/step - loss: 5.1333e-04 - val_loss: 0.0223\n",
      "Epoch 7/100\n",
      "12/12 [==============================] - 4s 314ms/step - loss: 4.9285e-04 - val_loss: 0.0210\n",
      "Epoch 8/100\n",
      "12/12 [==============================] - 4s 301ms/step - loss: 5.6600e-04 - val_loss: 0.0212\n",
      "Epoch 9/100\n",
      "12/12 [==============================] - 3s 291ms/step - loss: 4.6377e-04 - val_loss: 0.0212\n",
      "Epoch 10/100\n",
      "12/12 [==============================] - 4s 309ms/step - loss: 4.6586e-04 - val_loss: 0.0223\n",
      "Epoch 11/100\n",
      "12/12 [==============================] - 4s 307ms/step - loss: 4.5166e-04 - val_loss: 0.0231\n",
      "Epoch 12/100\n",
      "12/12 [==============================] - 3s 289ms/step - loss: 4.2927e-04 - val_loss: 0.0213\n",
      "Epoch 13/100\n",
      "12/12 [==============================] - 4s 338ms/step - loss: 3.6481e-04 - val_loss: 0.0197\n",
      "Epoch 14/100\n",
      "12/12 [==============================] - 4s 335ms/step - loss: 3.9321e-04 - val_loss: 0.0197\n",
      "Epoch 15/100\n",
      "12/12 [==============================] - 4s 304ms/step - loss: 3.1784e-04 - val_loss: 0.0203\n",
      "Epoch 16/100\n",
      "12/12 [==============================] - 4s 295ms/step - loss: 3.4532e-04 - val_loss: 0.0201\n",
      "Epoch 17/100\n",
      "12/12 [==============================] - 3s 270ms/step - loss: 3.1201e-04 - val_loss: 0.0202\n",
      "Epoch 18/100\n",
      "12/12 [==============================] - 4s 298ms/step - loss: 3.3699e-04 - val_loss: 0.0200\n",
      "Epoch 19/100\n",
      "12/12 [==============================] - 3s 289ms/step - loss: 3.1812e-04 - val_loss: 0.0210\n",
      "Epoch 20/100\n",
      "12/12 [==============================] - 3s 289ms/step - loss: 3.0458e-04 - val_loss: 0.0178\n",
      "Epoch 21/100\n",
      "12/12 [==============================] - 3s 285ms/step - loss: 3.2191e-04 - val_loss: 0.0193\n",
      "Epoch 22/100\n",
      "12/12 [==============================] - 3s 269ms/step - loss: 3.3554e-04 - val_loss: 0.0192\n",
      "Epoch 23/100\n",
      "12/12 [==============================] - 3s 267ms/step - loss: 2.7095e-04 - val_loss: 0.0188\n",
      "Epoch 24/100\n",
      "12/12 [==============================] - 4s 299ms/step - loss: 2.5920e-04 - val_loss: 0.0208\n",
      "Epoch 25/100\n",
      "12/12 [==============================] - 3s 295ms/step - loss: 3.6753e-04 - val_loss: 0.0164\n",
      "Epoch 26/100\n",
      "12/12 [==============================] - 4s 348ms/step - loss: 2.7479e-04 - val_loss: 0.0196\n",
      "Epoch 27/100\n",
      "12/12 [==============================] - 4s 293ms/step - loss: 2.8914e-04 - val_loss: 0.0150\n",
      "Epoch 28/100\n",
      "12/12 [==============================] - 3s 290ms/step - loss: 3.4391e-04 - val_loss: 0.0168\n",
      "Epoch 29/100\n",
      "12/12 [==============================] - 3s 292ms/step - loss: 2.6206e-04 - val_loss: 0.0158\n",
      "Epoch 30/100\n",
      "12/12 [==============================] - 4s 304ms/step - loss: 2.8470e-04 - val_loss: 0.0182\n",
      "Epoch 31/100\n",
      "12/12 [==============================] - 4s 330ms/step - loss: 2.6799e-04 - val_loss: 0.0151\n",
      "Epoch 32/100\n",
      "12/12 [==============================] - 4s 314ms/step - loss: 2.2632e-04 - val_loss: 0.0160\n",
      "Epoch 33/100\n",
      "12/12 [==============================] - 4s 310ms/step - loss: 2.4993e-04 - val_loss: 0.0174\n",
      "Epoch 34/100\n",
      "12/12 [==============================] - 3s 279ms/step - loss: 2.2964e-04 - val_loss: 0.0155\n",
      "Epoch 35/100\n",
      "12/12 [==============================] - 3s 255ms/step - loss: 2.3175e-04 - val_loss: 0.0151\n",
      "Epoch 36/100\n",
      "12/12 [==============================] - 3s 250ms/step - loss: 2.3406e-04 - val_loss: 0.0168\n",
      "Epoch 37/100\n",
      "12/12 [==============================] - 4s 307ms/step - loss: 2.2856e-04 - val_loss: 0.0155\n",
      "Epoch 38/100\n",
      "12/12 [==============================] - 3s 271ms/step - loss: 2.3755e-04 - val_loss: 0.0144\n",
      "Epoch 39/100\n",
      "12/12 [==============================] - 3s 282ms/step - loss: 2.3738e-04 - val_loss: 0.0142\n",
      "Epoch 40/100\n",
      "12/12 [==============================] - 3s 272ms/step - loss: 2.3770e-04 - val_loss: 0.0166\n",
      "Epoch 41/100\n",
      "12/12 [==============================] - 3s 284ms/step - loss: 2.4911e-04 - val_loss: 0.0143-\n",
      "Epoch 42/100\n",
      "12/12 [==============================] - 3s 277ms/step - loss: 2.4470e-04 - val_loss: 0.0151\n",
      "Epoch 43/100\n",
      "12/12 [==============================] - 3s 285ms/step - loss: 2.4207e-04 - val_loss: 0.0149\n",
      "Epoch 44/100\n",
      "12/12 [==============================] - 4s 298ms/step - loss: 2.1505e-04 - val_loss: 0.0149\n",
      "Epoch 45/100\n",
      "12/12 [==============================] - 3s 294ms/step - loss: 2.2016e-04 - val_loss: 0.0136\n",
      "Epoch 46/100\n",
      "12/12 [==============================] - 3s 284ms/step - loss: 2.5237e-04 - val_loss: 0.0155\n",
      "Epoch 47/100\n",
      "12/12 [==============================] - 3s 292ms/step - loss: 2.1323e-04 - val_loss: 0.0135\n",
      "Epoch 48/100\n",
      "12/12 [==============================] - 3s 284ms/step - loss: 2.0976e-04 - val_loss: 0.0144\n",
      "Epoch 49/100\n",
      "12/12 [==============================] - 4s 300ms/step - loss: 2.1319e-04 - val_loss: 0.0142\n",
      "Epoch 50/100\n",
      "12/12 [==============================] - 3s 286ms/step - loss: 2.1081e-04 - val_loss: 0.0142\n",
      "Epoch 51/100\n",
      "12/12 [==============================] - 4s 304ms/step - loss: 1.9888e-04 - val_loss: 0.0139\n",
      "Epoch 52/100\n",
      "12/12 [==============================] - 4s 323ms/step - loss: 2.1715e-04 - val_loss: 0.0153\n",
      "Epoch 53/100\n",
      "12/12 [==============================] - 4s 302ms/step - loss: 2.3028e-04 - val_loss: 0.0128\n",
      "Epoch 54/100\n",
      "12/12 [==============================] - 3s 294ms/step - loss: 2.3221e-04 - val_loss: 0.0146\n",
      "Epoch 55/100\n",
      "12/12 [==============================] - 3s 283ms/step - loss: 2.4423e-04 - val_loss: 0.0125\n",
      "Epoch 56/100\n",
      "12/12 [==============================] - 3s 288ms/step - loss: 1.7619e-04 - val_loss: 0.0125\n",
      "Epoch 57/100\n",
      "12/12 [==============================] - 3s 291ms/step - loss: 1.9690e-04 - val_loss: 0.0123\n",
      "Epoch 58/100\n",
      "12/12 [==============================] - 3s 292ms/step - loss: 2.0034e-04 - val_loss: 0.0148\n",
      "Epoch 59/100\n",
      "12/12 [==============================] - 3s 288ms/step - loss: 2.0988e-04 - val_loss: 0.0138\n",
      "Epoch 60/100\n",
      "12/12 [==============================] - 3s 288ms/step - loss: 1.8629e-04 - val_loss: 0.0143\n",
      "Epoch 61/100\n",
      "12/12 [==============================] - 4s 302ms/step - loss: 1.8027e-04 - val_loss: 0.0146\n",
      "Epoch 62/100\n",
      "12/12 [==============================] - 3s 287ms/step - loss: 1.9740e-04 - val_loss: 0.0139\n",
      "Epoch 63/100\n",
      "12/12 [==============================] - 3s 289ms/step - loss: 1.9962e-04 - val_loss: 0.0139\n",
      "Epoch 64/100\n",
      "12/12 [==============================] - 4s 322ms/step - loss: 1.8559e-04 - val_loss: 0.0145\n",
      "Epoch 65/100\n",
      "12/12 [==============================] - 4s 310ms/step - loss: 2.1179e-04 - val_loss: 0.0125\n",
      "Epoch 66/100\n",
      "12/12 [==============================] - 4s 313ms/step - loss: 1.9782e-04 - val_loss: 0.0134\n",
      "Epoch 67/100\n",
      "12/12 [==============================] - 4s 342ms/step - loss: 1.7511e-04 - val_loss: 0.0130\n",
      "Epoch 68/100\n",
      "12/12 [==============================] - 4s 293ms/step - loss: 1.7161e-04 - val_loss: 0.0175\n",
      "Epoch 69/100\n",
      "12/12 [==============================] - 4s 330ms/step - loss: 2.7986e-04 - val_loss: 0.0112\n",
      "Epoch 70/100\n",
      "12/12 [==============================] - 4s 322ms/step - loss: 2.0962e-04 - val_loss: 0.0120\n",
      "Epoch 71/100\n",
      "12/12 [==============================] - 4s 329ms/step - loss: 1.8447e-04 - val_loss: 0.0120\n",
      "Epoch 72/100\n",
      "12/12 [==============================] - 4s 380ms/step - loss: 1.9011e-04 - val_loss: 0.0122\n",
      "Epoch 73/100\n",
      "12/12 [==============================] - 4s 326ms/step - loss: 1.8818e-04 - val_loss: 0.0120\n",
      "Epoch 74/100\n",
      "12/12 [==============================] - 4s 296ms/step - loss: 1.7555e-04 - val_loss: 0.0143\n",
      "Epoch 75/100\n",
      "12/12 [==============================] - 3s 292ms/step - loss: 1.9459e-04 - val_loss: 0.0126\n",
      "Epoch 76/100\n",
      "12/12 [==============================] - 3s 293ms/step - loss: 1.5204e-04 - val_loss: 0.0128\n",
      "Epoch 77/100\n",
      "12/12 [==============================] - 4s 299ms/step - loss: 1.7045e-04 - val_loss: 0.0142\n",
      "Epoch 78/100\n"
     ]
    },
    {
     "name": "stdout",
     "output_type": "stream",
     "text": [
      "12/12 [==============================] - 4s 296ms/step - loss: 1.7421e-04 - val_loss: 0.0108\n",
      "Epoch 79/100\n",
      "12/12 [==============================] - 4s 296ms/step - loss: 1.8713e-04 - val_loss: 0.0120\n",
      "Epoch 80/100\n",
      "12/12 [==============================] - 4s 297ms/step - loss: 1.7042e-04 - val_loss: 0.0117\n",
      "Epoch 81/100\n",
      "12/12 [==============================] - 4s 296ms/step - loss: 1.6734e-04 - val_loss: 0.0136\n",
      "Epoch 82/100\n",
      "12/12 [==============================] - 4s 295ms/step - loss: 1.6240e-04 - val_loss: 0.0112\n",
      "Epoch 83/100\n",
      "12/12 [==============================] - 4s 297ms/step - loss: 1.6023e-04 - val_loss: 0.0135\n",
      "Epoch 84/100\n",
      "12/12 [==============================] - 4s 310ms/step - loss: 1.6428e-04 - val_loss: 0.0117\n",
      "Epoch 85/100\n",
      "12/12 [==============================] - 3s 291ms/step - loss: 1.4500e-04 - val_loss: 0.0154\n",
      "Epoch 86/100\n",
      "12/12 [==============================] - 3s 295ms/step - loss: 1.7199e-04 - val_loss: 0.0109\n",
      "Epoch 87/100\n",
      "12/12 [==============================] - 4s 298ms/step - loss: 1.5590e-04 - val_loss: 0.0137\n",
      "Epoch 88/100\n",
      "12/12 [==============================] - 4s 297ms/step - loss: 1.6542e-04 - val_loss: 0.0123\n",
      "Epoch 89/100\n",
      "12/12 [==============================] - 3s 294ms/step - loss: 1.5919e-04 - val_loss: 0.0122\n",
      "Epoch 90/100\n",
      "12/12 [==============================] - 3s 294ms/step - loss: 1.5133e-04 - val_loss: 0.0127\n",
      "Epoch 91/100\n",
      "12/12 [==============================] - 4s 297ms/step - loss: 1.5303e-04 - val_loss: 0.0131\n",
      "Epoch 92/100\n",
      "12/12 [==============================] - 4s 299ms/step - loss: 1.4648e-04 - val_loss: 0.0120\n",
      "Epoch 93/100\n",
      "12/12 [==============================] - 4s 310ms/step - loss: 1.5727e-04 - val_loss: 0.0111\n",
      "Epoch 94/100\n",
      "12/12 [==============================] - 4s 352ms/step - loss: 2.0088e-04 - val_loss: 0.0154\n",
      "Epoch 95/100\n",
      "12/12 [==============================] - 3s 294ms/step - loss: 1.7510e-04 - val_loss: 0.0105\n",
      "Epoch 96/100\n",
      "12/12 [==============================] - 4s 326ms/step - loss: 1.7658e-04 - val_loss: 0.0102\n",
      "Epoch 97/100\n",
      "12/12 [==============================] - 4s 290ms/step - loss: 1.7625e-04 - val_loss: 0.0111\n",
      "Epoch 98/100\n",
      "12/12 [==============================] - 4s 331ms/step - loss: 1.5999e-04 - val_loss: 0.0113\n",
      "Epoch 99/100\n",
      "12/12 [==============================] - 4s 316ms/step - loss: 1.3465e-04 - val_loss: 0.0105\n",
      "Epoch 100/100\n",
      "12/12 [==============================] - 3s 290ms/step - loss: 1.3282e-04 - val_loss: 0.0113\n"
     ]
    },
    {
     "data": {
      "text/plain": [
       "<keras.callbacks.History at 0x1522cfd81f0>"
      ]
     },
     "execution_count": 22,
     "metadata": {},
     "output_type": "execute_result"
    }
   ],
   "source": [
    "model.fit(X_train, y_train, validation_data= (X_test, y_test), epochs = 100, batch_size = 64, verbose =1)"
   ]
  },
  {
   "cell_type": "code",
   "execution_count": 23,
   "id": "9d25ee98",
   "metadata": {},
   "outputs": [],
   "source": [
    "# Let's do the prediction and check performance metrics\n",
    "train_predict = model.predict(X_train)\n",
    "test_predict = model.predict(X_test)"
   ]
  },
  {
   "cell_type": "code",
   "execution_count": 24,
   "id": "6a5b2001",
   "metadata": {},
   "outputs": [],
   "source": [
    "## Transform Back to original form\n",
    "train_predict = scaler.inverse_transform(train_predict)\n",
    "test_predict = scaler.inverse_transform(test_predict)"
   ]
  },
  {
   "cell_type": "code",
   "execution_count": 25,
   "id": "1f32c357",
   "metadata": {},
   "outputs": [
    {
     "data": {
      "text/plain": [
       "182.78358967310746"
      ]
     },
     "execution_count": 25,
     "metadata": {},
     "output_type": "execute_result"
    }
   ],
   "source": [
    "import math\n",
    "from sklearn.metrics import mean_squared_error\n",
    "math.sqrt(mean_squared_error(y_train, train_predict))"
   ]
  },
  {
   "cell_type": "code",
   "execution_count": 26,
   "id": "ae1e3aaf",
   "metadata": {},
   "outputs": [
    {
     "data": {
      "text/plain": [
       "233.62256609552568"
      ]
     },
     "execution_count": 26,
     "metadata": {},
     "output_type": "execute_result"
    }
   ],
   "source": [
    "math.sqrt(mean_squared_error(y_test, test_predict))"
   ]
  },
  {
   "cell_type": "code",
   "execution_count": 27,
   "id": "f54f22d2",
   "metadata": {},
   "outputs": [
    {
     "name": "stderr",
     "output_type": "stream",
     "text": [
      "No handles with labels found to put in legend.\n"
     ]
    },
    {
     "data": {
      "text/plain": [
       "<matplotlib.legend.Legend at 0x15234ccfd00>"
      ]
     },
     "execution_count": 27,
     "metadata": {},
     "output_type": "execute_result"
    },
    {
     "data": {
      "image/png": "[encoded data removed]",
      "text/plain": [
       "<Figure size 432x288 with 1 Axes>"
      ]
     },
     "metadata": {
      "needs_background": "light"
     },
     "output_type": "display_data"
    }
   ],
   "source": [
    "### Ploting\n",
    "# SHift train prediction for plotting\n",
    "look_back = 100\n",
    "trainPredictPlot = np.empty_like(df1)\n",
    "trainPredictPlot[:, :] = np.nan\n",
    "trainPredictPlot[look_back:len(train_predict)+look_back, :] = train_predict\n",
    "\n",
    "# shift test prediction for plotting\n",
    "testPredictPlot = np.empty_like(df1)\n",
    "testPredictPlot[:, :] = np.nan\n",
    "testPredictPlot[len(train_predict)+(look_back*2)+1:len(df1)-1, :] = test_predict\n",
    "# plot baseline and prediction\n",
    "plt.plot(scaler.inverse_transform(df1))\n",
    "plt.plot(trainPredictPlot)\n",
    "plt.plot(testPredictPlot)\n",
    "plt.legend()"
   ]
  },
  {
   "cell_type": "code",
   "execution_count": 28,
   "id": "205df818",
   "metadata": {},
   "outputs": [
    {
     "data": {
      "image/png": "[encoded data removed]",
      "text/plain": [
       "<Figure size 432x288 with 1 Axes>"
      ]
     },
     "metadata": {
      "needs_background": "light"
     },
     "output_type": "display_data"
    }
   ],
   "source": [
    "### Plotting \n",
    "# shift train predictions for plotting\n",
    "look_back=100\n",
    "trainPredictPlot = np.empty_like(df1)\n",
    "trainPredictPlot[:, :] = np.nan\n",
    "trainPredictPlot[look_back:len(train_predict)+look_back, :] = train_predict\n",
    "# shift test predictions for plotting\n",
    "testPredictPlot = np.empty_like(df1)\n",
    "testPredictPlot[:, :] = np.nan\n",
    "testPredictPlot[len(train_predict)+(look_back*2)+1:len(df1)-1, :] = test_predict\n",
    "# plot baseline and predictions\n",
    "plt.plot(scaler.inverse_transform(df1))\n",
    "plt.plot(trainPredictPlot)\n",
    "plt.plot(testPredictPlot)\n",
    "plt.show()"
   ]
  },
  {
   "cell_type": "code",
   "execution_count": 29,
   "id": "a5be9a25",
   "metadata": {},
   "outputs": [
    {
     "data": {
      "text/plain": [
       "441"
      ]
     },
     "execution_count": 29,
     "metadata": {},
     "output_type": "execute_result"
    }
   ],
   "source": [
    "len(test_data)"
   ]
  },
  {
   "cell_type": "code",
   "execution_count": 30,
   "id": "2c097272",
   "metadata": {},
   "outputs": [
    {
     "data": {
      "text/plain": [
       "(1, 100)"
      ]
     },
     "execution_count": 30,
     "metadata": {},
     "output_type": "execute_result"
    }
   ],
   "source": [
    "x_input = test_data[341:].reshape(1, -1)\n",
    "x_input.shape"
   ]
  },
  {
   "cell_type": "code",
   "execution_count": 31,
   "id": "14949b11",
   "metadata": {},
   "outputs": [],
   "source": [
    "temp_input = list(x_input)\n",
    "temp_input = temp_input[0].tolist()"
   ]
  },
  {
   "cell_type": "code",
   "execution_count": 32,
   "id": "336036cb",
   "metadata": {},
   "outputs": [
    {
     "name": "stdout",
     "output_type": "stream",
     "text": [
      "[0.11503898]\n",
      "1 day output [[0.11501665]]\n",
      "2 day output [[0.11520089]]\n",
      "3 day output [[0.11555946]]\n",
      "4 day output [[0.11603727]]\n",
      "5 day output [[0.11658271]]\n",
      "6 day output [[0.11715781]]\n",
      "7 day output [[0.11773856]]\n",
      "8 day output [[0.11831201]]\n",
      "9 day output [[0.11887231]]\n",
      "10 day output [[0.11941759]]\n",
      "11 day output [[0.11994772]]\n",
      "12 day output [[0.12046365]]\n",
      "13 day output [[0.12096631]]\n",
      "14 day output [[0.12145691]]\n",
      "15 day output [[0.12193661]]\n",
      "16 day output [[0.12240671]]\n",
      "17 day output [[0.12286856]]\n",
      "18 day output [[0.12332335]]\n",
      "19 day output [[0.12377247]]\n",
      "20 day output [[0.12421706]]\n",
      "21 day output [[0.12465831]]\n",
      "22 day output [[0.12509704]]\n",
      "23 day output [[0.12553406]]\n",
      "24 day output [[0.12596993]]\n",
      "25 day output [[0.12640512]]\n",
      "26 day output [[0.12683983]]\n",
      "27 day output [[0.12727427]]\n",
      "28 day output [[0.12770842]]\n",
      "29 day output [[0.12814224]]\n",
      "[0.11503898352384567, 0.11501665413379669, 0.11520089209079742, 0.11555945873260498, 0.1160372719168663, 0.1165827140212059, 0.11715780943632126, 0.11773855984210968, 0.11831200867891312, 0.11887230724096298, 0.11941759288311005, 0.11994772404432297, 0.12046364694833755, 0.12096630781888962, 0.12145690619945526, 0.1219366118311882, 0.12240671366453171, 0.12286856025457382, 0.12332335114479065, 0.12377247214317322, 0.12421706318855286, 0.12465830892324448, 0.12509703636169434, 0.1255340576171875, 0.12596993148326874, 0.12640511989593506, 0.12683983147144318, 0.1272742748260498, 0.12770842015743256, 0.12814223766326904]\n"
     ]
    }
   ],
   "source": [
    "lst_output = []\n",
    "n_steps = 100\n",
    "i = 0\n",
    "while(i<30):\n",
    "    if (len(temp_input)>100):\n",
    "        x_input = np.array(temp_input[1:])\n",
    "        x_input = x_input.reshape(1, -1)\n",
    "        x_input = x_input.reshape((1, n_steps, 1))\n",
    "        yhat = model.predict(x_input, verbose = 0)\n",
    "        print(f\"{i} day output {yhat}\")\n",
    "        temp_input.extend(yhat[0].tolist())\n",
    "        temp_input = temp_input[1:]\n",
    "        lst_output.extend(yhat[0].tolist())\n",
    "        i += 1\n",
    "        \n",
    "    else:\n",
    "        x_input = x_input.reshape((1, n_steps, 1))\n",
    "        yhat = model.predict(x_input, verbose = 0)\n",
    "        print(yhat[0])\n",
    "        temp_input.extend(yhat[0].tolist())\n",
    "        lst_output.extend(yhat[0].tolist())\n",
    "        i+=1\n",
    "print(lst_output)"
   ]
  },
  {
   "cell_type": "code",
   "execution_count": 33,
   "id": "434ec3f0",
   "metadata": {},
   "outputs": [],
   "source": [
    "day_new = np.arange(1, 101)\n",
    "day_pred = np.arange(101, 131)"
   ]
  },
  {
   "cell_type": "code",
   "execution_count": 34,
   "id": "9c677e53",
   "metadata": {},
   "outputs": [
    {
     "data": {
      "text/plain": [
       "1258"
      ]
     },
     "execution_count": 34,
     "metadata": {},
     "output_type": "execute_result"
    }
   ],
   "source": [
    "len(df1)"
   ]
  },
  {
   "cell_type": "code",
   "execution_count": 35,
   "id": "cdf3f383",
   "metadata": {},
   "outputs": [],
   "source": [
    "df3 = df1.tolist()\n",
    "df3.extend(lst_output)"
   ]
  },
  {
   "cell_type": "code",
   "execution_count": 36,
   "id": "e4754c87",
   "metadata": {},
   "outputs": [
    {
     "ename": "ValueError",
     "evalue": "Expected 2D array, got 1D array instead:\narray=[0.11503898 0.11501665 0.11520089 0.11555946 0.11603727 0.11658271\n 0.11715781 0.11773856 0.11831201 0.11887231 0.11941759 0.11994772\n 0.12046365 0.12096631 0.12145691 0.12193661 0.12240671 0.12286856\n 0.12332335 0.12377247 0.12421706 0.12465831 0.12509704 0.12553406\n 0.12596993 0.12640512 0.12683983 0.12727427 0.12770842 0.12814224].\nReshape your data either using array.reshape(-1, 1) if your data has a single feature or array.reshape(1, -1) if it contains a single sample.",
     "output_type": "error",
     "traceback": [
      "\u001b[1;31m---------------------------------------------------------------------------\u001b[0m",
      "\u001b[1;31mValueError\u001b[0m                                Traceback (most recent call last)",
      "\u001b[1;32m~\\AppData\\Local\\Temp/ipykernel_3740/3037069347.py\u001b[0m in \u001b[0;36m<module>\u001b[1;34m\u001b[0m\n\u001b[0;32m      1\u001b[0m \u001b[0mplt\u001b[0m\u001b[1;33m.\u001b[0m\u001b[0mplot\u001b[0m\u001b[1;33m(\u001b[0m\u001b[0mday_new\u001b[0m\u001b[1;33m,\u001b[0m \u001b[0mscaler\u001b[0m\u001b[1;33m.\u001b[0m\u001b[0minverse_transform\u001b[0m\u001b[1;33m(\u001b[0m\u001b[0mdf1\u001b[0m\u001b[1;33m[\u001b[0m\u001b[1;36m1158\u001b[0m\u001b[1;33m:\u001b[0m\u001b[1;33m]\u001b[0m\u001b[1;33m)\u001b[0m\u001b[1;33m)\u001b[0m\u001b[1;33m\u001b[0m\u001b[1;33m\u001b[0m\u001b[0m\n\u001b[1;32m----> 2\u001b[1;33m \u001b[0mplt\u001b[0m\u001b[1;33m.\u001b[0m\u001b[0mplot\u001b[0m\u001b[1;33m(\u001b[0m\u001b[0mday_pred\u001b[0m\u001b[1;33m,\u001b[0m \u001b[0mscaler\u001b[0m\u001b[1;33m.\u001b[0m\u001b[0minverse_transform\u001b[0m\u001b[1;33m(\u001b[0m\u001b[0mlst_output\u001b[0m\u001b[1;33m)\u001b[0m\u001b[1;33m)\u001b[0m\u001b[1;33m\u001b[0m\u001b[1;33m\u001b[0m\u001b[0m\n\u001b[0m",
      "\u001b[1;32mc:\\python39\\lib\\site-packages\\sklearn\\preprocessing\\_data.py\u001b[0m in \u001b[0;36minverse_transform\u001b[1;34m(self, X)\u001b[0m\n\u001b[0;32m    456\u001b[0m         \u001b[0mcheck_is_fitted\u001b[0m\u001b[1;33m(\u001b[0m\u001b[0mself\u001b[0m\u001b[1;33m)\u001b[0m\u001b[1;33m\u001b[0m\u001b[1;33m\u001b[0m\u001b[0m\n\u001b[0;32m    457\u001b[0m \u001b[1;33m\u001b[0m\u001b[0m\n\u001b[1;32m--> 458\u001b[1;33m         X = check_array(X, copy=self.copy, dtype=FLOAT_DTYPES,\n\u001b[0m\u001b[0;32m    459\u001b[0m                         force_all_finite=\"allow-nan\")\n\u001b[0;32m    460\u001b[0m \u001b[1;33m\u001b[0m\u001b[0m\n",
      "\u001b[1;32mc:\\python39\\lib\\site-packages\\sklearn\\utils\\validation.py\u001b[0m in \u001b[0;36minner_f\u001b[1;34m(*args, **kwargs)\u001b[0m\n\u001b[0;32m     61\u001b[0m             \u001b[0mextra_args\u001b[0m \u001b[1;33m=\u001b[0m \u001b[0mlen\u001b[0m\u001b[1;33m(\u001b[0m\u001b[0margs\u001b[0m\u001b[1;33m)\u001b[0m \u001b[1;33m-\u001b[0m \u001b[0mlen\u001b[0m\u001b[1;33m(\u001b[0m\u001b[0mall_args\u001b[0m\u001b[1;33m)\u001b[0m\u001b[1;33m\u001b[0m\u001b[1;33m\u001b[0m\u001b[0m\n\u001b[0;32m     62\u001b[0m             \u001b[1;32mif\u001b[0m \u001b[0mextra_args\u001b[0m \u001b[1;33m<=\u001b[0m \u001b[1;36m0\u001b[0m\u001b[1;33m:\u001b[0m\u001b[1;33m\u001b[0m\u001b[1;33m\u001b[0m\u001b[0m\n\u001b[1;32m---> 63\u001b[1;33m                 \u001b[1;32mreturn\u001b[0m \u001b[0mf\u001b[0m\u001b[1;33m(\u001b[0m\u001b[1;33m*\u001b[0m\u001b[0margs\u001b[0m\u001b[1;33m,\u001b[0m \u001b[1;33m**\u001b[0m\u001b[0mkwargs\u001b[0m\u001b[1;33m)\u001b[0m\u001b[1;33m\u001b[0m\u001b[1;33m\u001b[0m\u001b[0m\n\u001b[0m\u001b[0;32m     64\u001b[0m \u001b[1;33m\u001b[0m\u001b[0m\n\u001b[0;32m     65\u001b[0m             \u001b[1;31m# extra_args > 0\u001b[0m\u001b[1;33m\u001b[0m\u001b[1;33m\u001b[0m\u001b[1;33m\u001b[0m\u001b[0m\n",
      "\u001b[1;32mc:\\python39\\lib\\site-packages\\sklearn\\utils\\validation.py\u001b[0m in \u001b[0;36mcheck_array\u001b[1;34m(array, accept_sparse, accept_large_sparse, dtype, order, copy, force_all_finite, ensure_2d, allow_nd, ensure_min_samples, ensure_min_features, estimator)\u001b[0m\n\u001b[0;32m    692\u001b[0m             \u001b[1;31m# If input is 1D raise error\u001b[0m\u001b[1;33m\u001b[0m\u001b[1;33m\u001b[0m\u001b[1;33m\u001b[0m\u001b[0m\n\u001b[0;32m    693\u001b[0m             \u001b[1;32mif\u001b[0m \u001b[0marray\u001b[0m\u001b[1;33m.\u001b[0m\u001b[0mndim\u001b[0m \u001b[1;33m==\u001b[0m \u001b[1;36m1\u001b[0m\u001b[1;33m:\u001b[0m\u001b[1;33m\u001b[0m\u001b[1;33m\u001b[0m\u001b[0m\n\u001b[1;32m--> 694\u001b[1;33m                 raise ValueError(\n\u001b[0m\u001b[0;32m    695\u001b[0m                     \u001b[1;34m\"Expected 2D array, got 1D array instead:\\narray={}.\\n\"\u001b[0m\u001b[1;33m\u001b[0m\u001b[1;33m\u001b[0m\u001b[0m\n\u001b[0;32m    696\u001b[0m                     \u001b[1;34m\"Reshape your data either using array.reshape(-1, 1) if \"\u001b[0m\u001b[1;33m\u001b[0m\u001b[1;33m\u001b[0m\u001b[0m\n",
      "\u001b[1;31mValueError\u001b[0m: Expected 2D array, got 1D array instead:\narray=[0.11503898 0.11501665 0.11520089 0.11555946 0.11603727 0.11658271\n 0.11715781 0.11773856 0.11831201 0.11887231 0.11941759 0.11994772\n 0.12046365 0.12096631 0.12145691 0.12193661 0.12240671 0.12286856\n 0.12332335 0.12377247 0.12421706 0.12465831 0.12509704 0.12553406\n 0.12596993 0.12640512 0.12683983 0.12727427 0.12770842 0.12814224].\nReshape your data either using array.reshape(-1, 1) if your data has a single feature or array.reshape(1, -1) if it contains a single sample."
     ]
    },
    {
     "data": {
      "image/png": "[encoded data removed]",
      "text/plain": [
       "<Figure size 432x288 with 1 Axes>"
      ]
     },
     "metadata": {
      "needs_background": "light"
     },
     "output_type": "display_data"
    }
   ],
   "source": [
    "plt.plot(day_new, scaler.inverse_transform(df1[1158:]))\n",
    "plt.plot(day_pred, scaler.inverse_transform(lst_output))"
   ]
  },
  {
   "cell_type": "code",
   "execution_count": null,
   "id": "38643fde",
   "metadata": {},
   "outputs": [],
   "source": []
  }
 ],
 "metadata": {
  "kernelspec": {
   "display_name": "Python 3 (ipykernel)",
   "language": "python",
   "name": "python3"
  },
  "language_info": {
   "codemirror_mode": {
    "name": "ipython",
    "version": 3
   },
   "file_extension": ".py",
   "mimetype": "text/x-python",
   "name": "python",
   "nbconvert_exporter": "python",
   "pygments_lexer": "ipython3",
   "version": "3.9.5"
  }
 },
 "nbformat": 4,
 "nbformat_minor": 5
}
